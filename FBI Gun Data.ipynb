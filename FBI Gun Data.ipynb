{
 "cells": [
  {
   "cell_type": "markdown",
   "metadata": {},
   "source": [
    "# Smoking Gun? : Re-examining the relationship between FBI background checks and state-level census data  \n",
    "\n",
    "## Table of Contents\n",
    "<ul>\n",
    "<li><a href=\"#intro\">Introduction</a></li>\n",
    "<li><a href=\"#tools\">Tools</a></li>\n",
    "<li><a href=\"#wrangling\">Data Wrangling</a></li>\n",
    "<li><a href=\"#eda\">Exploratory Data Analysis</a></li>\n",
    "<li><a href=\"#conclusions\">Conclusions</a></li>\n",
    "</ul>"
   ]
  },
  {
   "cell_type": "markdown",
   "metadata": {},
   "source": [
    "<a id='intro'></a>\n",
    "## Introduction\n",
    "\n",
    "In this report, I will be exploring what census data tells us about gun purchases across the US. The gun data comes from from the FBI's National Instant Criminal Background Check System. The NICS is used by to determine whether a prospective buyer is eligible to buy firearms or explosives. Gun shops call into this system to ensure that each customer does not have a criminal record or isn’t otherwise ineligible to make a purchase. The state level cenus data comes from [census.gov](https://www.census.gov).   \n",
    "\n",
    "I downloaded the NICS data in .xlxs format from the [Udacity project site](https://docs.google.com/document/d/e/2PACX-1vTlVmknRRnfy_4eTrjw5hYGaiQim5ctr9naaRd4V9du2B5bxpd8FEH3KtDgp8qVekw7Cj1GLk1IXdZi/pub?embedded=True) and used Excel to save it as a csv file so that I could use pandas to manipulate it. The census data was already in .csv format so this step was unneccesary. I combined the two files to one csv to make working with them easier.\n",
    "\n",
    "For this project, I wanted to answer the questions that are listed below:\n",
    "<ol>\n",
    "    <li> Which kinds of guns are people applying permits for? </li>\n",
    "    <li> How does redemption data compare between the types of firearms overall? </li>\n",
    "    <li> How does the percentage of people with Bachelor's degree affect permit applications? </li>\n",
    "    <li> To Shoot or to Build: Comparing Business permits vs Firearm permits </li>\n",
    "    <li> Which states have had the highest growth in gun registrations? </li>\n",
    "</ol>"
   ]
  },
  {
   "cell_type": "markdown",
   "metadata": {},
   "source": [
    "<a id='tools'></a>\n",
    "## Tools\n",
    "\n",
    "I used pandas and numpy to make working with the .csv's easier and more efficient. I also used matplotlib to plot graphs showing the relationships between the various variables and added seaborn to make the graphs visually appealing. All plots appeared inline to make working with the data quick and presentable in report form."
   ]
  },
  {
   "cell_type": "code",
   "execution_count": 1,
   "metadata": {},
   "outputs": [],
   "source": [
    "import datetime as dt\n",
    "import pandas as pd\n",
    "import numpy as np\n",
    "import matplotlib.pyplot as plt\n",
    "import seaborn as sns\n",
    "% matplotlib inline"
   ]
  },
  {
   "cell_type": "markdown",
   "metadata": {},
   "source": [
    "<a id='wrangling'></a>\n",
    "## Data Wrangling\n",
    "\n",
    "In this section of the report, I loaded in the data from the csv documents, checked for cleanliness, and then trimmed and cleaned the dataset for analysis. Cleaning decisions I made are explained in the cells adjacent to the code. \n",
    "\n",
    "### General Properties of the dataset"
   ]
  },
  {
   "cell_type": "code",
   "execution_count": 2,
   "metadata": {},
   "outputs": [],
   "source": [
    "#Read in the csv files\n",
    "census_data = pd.read_csv('census.csv') \n",
    "gun_data = pd.read_csv('gun_data.csv')"
   ]
  },
  {
   "cell_type": "code",
   "execution_count": 3,
   "metadata": {
    "scrolled": true
   },
   "outputs": [
    {
     "data": {
      "text/html": [
       "<div>\n",
       "<style scoped>\n",
       "    .dataframe tbody tr th:only-of-type {\n",
       "        vertical-align: middle;\n",
       "    }\n",
       "\n",
       "    .dataframe tbody tr th {\n",
       "        vertical-align: top;\n",
       "    }\n",
       "\n",
       "    .dataframe thead th {\n",
       "        text-align: right;\n",
       "    }\n",
       "</style>\n",
       "<table border=\"1\" class=\"dataframe\">\n",
       "  <thead>\n",
       "    <tr style=\"text-align: right;\">\n",
       "      <th></th>\n",
       "      <th>Fact</th>\n",
       "      <th>Fact Note</th>\n",
       "      <th>Alabama</th>\n",
       "      <th>Alaska</th>\n",
       "      <th>Arizona</th>\n",
       "      <th>Arkansas</th>\n",
       "      <th>California</th>\n",
       "      <th>Colorado</th>\n",
       "      <th>Connecticut</th>\n",
       "      <th>Delaware</th>\n",
       "      <th>...</th>\n",
       "      <th>South Dakota</th>\n",
       "      <th>Tennessee</th>\n",
       "      <th>Texas</th>\n",
       "      <th>Utah</th>\n",
       "      <th>Vermont</th>\n",
       "      <th>Virginia</th>\n",
       "      <th>Washington</th>\n",
       "      <th>West Virginia</th>\n",
       "      <th>Wisconsin</th>\n",
       "      <th>Wyoming</th>\n",
       "    </tr>\n",
       "  </thead>\n",
       "  <tbody>\n",
       "    <tr>\n",
       "      <th>0</th>\n",
       "      <td>Population estimates, July 1, 2016,  (V2016)</td>\n",
       "      <td>NaN</td>\n",
       "      <td>4863300</td>\n",
       "      <td>741894</td>\n",
       "      <td>6931071</td>\n",
       "      <td>2988248</td>\n",
       "      <td>39250017</td>\n",
       "      <td>5540545</td>\n",
       "      <td>3576452</td>\n",
       "      <td>952065</td>\n",
       "      <td>...</td>\n",
       "      <td>865454</td>\n",
       "      <td>6651194</td>\n",
       "      <td>27862596</td>\n",
       "      <td>3051217</td>\n",
       "      <td>624594</td>\n",
       "      <td>8411808</td>\n",
       "      <td>7288000</td>\n",
       "      <td>1831102</td>\n",
       "      <td>5778708</td>\n",
       "      <td>585501</td>\n",
       "    </tr>\n",
       "    <tr>\n",
       "      <th>1</th>\n",
       "      <td>Population estimates base, April 1, 2010,  (V2...</td>\n",
       "      <td>NaN</td>\n",
       "      <td>4,780,131</td>\n",
       "      <td>710,249</td>\n",
       "      <td>6,392,301</td>\n",
       "      <td>2,916,025</td>\n",
       "      <td>37,254,522</td>\n",
       "      <td>5,029,324</td>\n",
       "      <td>3,574,114</td>\n",
       "      <td>897,936</td>\n",
       "      <td>...</td>\n",
       "      <td>814195</td>\n",
       "      <td>6346298</td>\n",
       "      <td>25,146,100</td>\n",
       "      <td>2,763,888</td>\n",
       "      <td>625,741</td>\n",
       "      <td>8,001,041</td>\n",
       "      <td>6,724,545</td>\n",
       "      <td>1,853,011</td>\n",
       "      <td>5,687,289</td>\n",
       "      <td>563,767</td>\n",
       "    </tr>\n",
       "    <tr>\n",
       "      <th>2</th>\n",
       "      <td>Population, percent change - April 1, 2010 (es...</td>\n",
       "      <td>NaN</td>\n",
       "      <td>1.70%</td>\n",
       "      <td>4.50%</td>\n",
       "      <td>8.40%</td>\n",
       "      <td>2.50%</td>\n",
       "      <td>5.40%</td>\n",
       "      <td>10.20%</td>\n",
       "      <td>0.10%</td>\n",
       "      <td>6.00%</td>\n",
       "      <td>...</td>\n",
       "      <td>0.063</td>\n",
       "      <td>0.048</td>\n",
       "      <td>10.80%</td>\n",
       "      <td>10.40%</td>\n",
       "      <td>-0.20%</td>\n",
       "      <td>5.10%</td>\n",
       "      <td>8.40%</td>\n",
       "      <td>-1.20%</td>\n",
       "      <td>1.60%</td>\n",
       "      <td>3.90%</td>\n",
       "    </tr>\n",
       "    <tr>\n",
       "      <th>3</th>\n",
       "      <td>Population, Census, April 1, 2010</td>\n",
       "      <td>NaN</td>\n",
       "      <td>4,779,736</td>\n",
       "      <td>710,231</td>\n",
       "      <td>6,392,017</td>\n",
       "      <td>2,915,918</td>\n",
       "      <td>37,253,956</td>\n",
       "      <td>5,029,196</td>\n",
       "      <td>3,574,097</td>\n",
       "      <td>897,934</td>\n",
       "      <td>...</td>\n",
       "      <td>814180</td>\n",
       "      <td>6346105</td>\n",
       "      <td>25,145,561</td>\n",
       "      <td>2,763,885</td>\n",
       "      <td>625,741</td>\n",
       "      <td>8,001,024</td>\n",
       "      <td>6,724,540</td>\n",
       "      <td>1,852,994</td>\n",
       "      <td>5,686,986</td>\n",
       "      <td>563,626</td>\n",
       "    </tr>\n",
       "    <tr>\n",
       "      <th>4</th>\n",
       "      <td>Persons under 5 years, percent, July 1, 2016, ...</td>\n",
       "      <td>NaN</td>\n",
       "      <td>6.00%</td>\n",
       "      <td>7.30%</td>\n",
       "      <td>6.30%</td>\n",
       "      <td>6.40%</td>\n",
       "      <td>6.30%</td>\n",
       "      <td>6.10%</td>\n",
       "      <td>5.20%</td>\n",
       "      <td>5.80%</td>\n",
       "      <td>...</td>\n",
       "      <td>0.071</td>\n",
       "      <td>0.061</td>\n",
       "      <td>7.20%</td>\n",
       "      <td>8.30%</td>\n",
       "      <td>4.90%</td>\n",
       "      <td>6.10%</td>\n",
       "      <td>6.20%</td>\n",
       "      <td>5.50%</td>\n",
       "      <td>5.80%</td>\n",
       "      <td>6.50%</td>\n",
       "    </tr>\n",
       "  </tbody>\n",
       "</table>\n",
       "<p>5 rows × 52 columns</p>\n",
       "</div>"
      ],
      "text/plain": [
       "                                                Fact Fact Note    Alabama  \\\n",
       "0       Population estimates, July 1, 2016,  (V2016)       NaN    4863300   \n",
       "1  Population estimates base, April 1, 2010,  (V2...       NaN  4,780,131   \n",
       "2  Population, percent change - April 1, 2010 (es...       NaN      1.70%   \n",
       "3                  Population, Census, April 1, 2010       NaN  4,779,736   \n",
       "4  Persons under 5 years, percent, July 1, 2016, ...       NaN      6.00%   \n",
       "\n",
       "    Alaska    Arizona   Arkansas  California   Colorado Connecticut Delaware  \\\n",
       "0   741894    6931071    2988248    39250017    5540545     3576452   952065   \n",
       "1  710,249  6,392,301  2,916,025  37,254,522  5,029,324   3,574,114  897,936   \n",
       "2    4.50%      8.40%      2.50%       5.40%     10.20%       0.10%    6.00%   \n",
       "3  710,231  6,392,017  2,915,918  37,253,956  5,029,196   3,574,097  897,934   \n",
       "4    7.30%      6.30%      6.40%       6.30%      6.10%       5.20%    5.80%   \n",
       "\n",
       "    ...    South Dakota Tennessee       Texas       Utah  Vermont   Virginia  \\\n",
       "0   ...          865454   6651194    27862596    3051217   624594    8411808   \n",
       "1   ...          814195   6346298  25,146,100  2,763,888  625,741  8,001,041   \n",
       "2   ...           0.063     0.048      10.80%     10.40%   -0.20%      5.10%   \n",
       "3   ...          814180   6346105  25,145,561  2,763,885  625,741  8,001,024   \n",
       "4   ...           0.071     0.061       7.20%      8.30%    4.90%      6.10%   \n",
       "\n",
       "  Washington West Virginia  Wisconsin  Wyoming  \n",
       "0    7288000       1831102    5778708   585501  \n",
       "1  6,724,545     1,853,011  5,687,289  563,767  \n",
       "2      8.40%        -1.20%      1.60%    3.90%  \n",
       "3  6,724,540     1,852,994  5,686,986  563,626  \n",
       "4      6.20%         5.50%      5.80%    6.50%  \n",
       "\n",
       "[5 rows x 52 columns]"
      ]
     },
     "execution_count": 3,
     "metadata": {},
     "output_type": "execute_result"
    }
   ],
   "source": [
    "#Print out first rows of data frame to make sure the data was read in correctly\n",
    "census_data.head()"
   ]
  },
  {
   "cell_type": "code",
   "execution_count": 4,
   "metadata": {},
   "outputs": [
    {
     "data": {
      "text/html": [
       "<div>\n",
       "<style scoped>\n",
       "    .dataframe tbody tr th:only-of-type {\n",
       "        vertical-align: middle;\n",
       "    }\n",
       "\n",
       "    .dataframe tbody tr th {\n",
       "        vertical-align: top;\n",
       "    }\n",
       "\n",
       "    .dataframe thead th {\n",
       "        text-align: right;\n",
       "    }\n",
       "</style>\n",
       "<table border=\"1\" class=\"dataframe\">\n",
       "  <thead>\n",
       "    <tr style=\"text-align: right;\">\n",
       "      <th></th>\n",
       "      <th>month</th>\n",
       "      <th>state</th>\n",
       "      <th>permit</th>\n",
       "      <th>permit_recheck</th>\n",
       "      <th>handgun</th>\n",
       "      <th>long_gun</th>\n",
       "      <th>other</th>\n",
       "      <th>multiple</th>\n",
       "      <th>admin</th>\n",
       "      <th>prepawn_handgun</th>\n",
       "      <th>...</th>\n",
       "      <th>returned_other</th>\n",
       "      <th>rentals_handgun</th>\n",
       "      <th>rentals_long_gun</th>\n",
       "      <th>private_sale_handgun</th>\n",
       "      <th>private_sale_long_gun</th>\n",
       "      <th>private_sale_other</th>\n",
       "      <th>return_to_seller_handgun</th>\n",
       "      <th>return_to_seller_long_gun</th>\n",
       "      <th>return_to_seller_other</th>\n",
       "      <th>totals</th>\n",
       "    </tr>\n",
       "  </thead>\n",
       "  <tbody>\n",
       "    <tr>\n",
       "      <th>0</th>\n",
       "      <td>2017-09</td>\n",
       "      <td>Alabama</td>\n",
       "      <td>16717.0</td>\n",
       "      <td>0.0</td>\n",
       "      <td>5734.0</td>\n",
       "      <td>6320.0</td>\n",
       "      <td>221.0</td>\n",
       "      <td>317</td>\n",
       "      <td>0.0</td>\n",
       "      <td>15.0</td>\n",
       "      <td>...</td>\n",
       "      <td>0.0</td>\n",
       "      <td>0.0</td>\n",
       "      <td>0.0</td>\n",
       "      <td>9.0</td>\n",
       "      <td>16.0</td>\n",
       "      <td>3.0</td>\n",
       "      <td>0.0</td>\n",
       "      <td>0.0</td>\n",
       "      <td>3.0</td>\n",
       "      <td>32019</td>\n",
       "    </tr>\n",
       "    <tr>\n",
       "      <th>1</th>\n",
       "      <td>2017-09</td>\n",
       "      <td>Alaska</td>\n",
       "      <td>209.0</td>\n",
       "      <td>2.0</td>\n",
       "      <td>2320.0</td>\n",
       "      <td>2930.0</td>\n",
       "      <td>219.0</td>\n",
       "      <td>160</td>\n",
       "      <td>0.0</td>\n",
       "      <td>5.0</td>\n",
       "      <td>...</td>\n",
       "      <td>0.0</td>\n",
       "      <td>0.0</td>\n",
       "      <td>0.0</td>\n",
       "      <td>17.0</td>\n",
       "      <td>24.0</td>\n",
       "      <td>1.0</td>\n",
       "      <td>0.0</td>\n",
       "      <td>0.0</td>\n",
       "      <td>0.0</td>\n",
       "      <td>6303</td>\n",
       "    </tr>\n",
       "    <tr>\n",
       "      <th>2</th>\n",
       "      <td>2017-09</td>\n",
       "      <td>Arizona</td>\n",
       "      <td>5069.0</td>\n",
       "      <td>382.0</td>\n",
       "      <td>11063.0</td>\n",
       "      <td>7946.0</td>\n",
       "      <td>920.0</td>\n",
       "      <td>631</td>\n",
       "      <td>0.0</td>\n",
       "      <td>13.0</td>\n",
       "      <td>...</td>\n",
       "      <td>0.0</td>\n",
       "      <td>0.0</td>\n",
       "      <td>0.0</td>\n",
       "      <td>38.0</td>\n",
       "      <td>12.0</td>\n",
       "      <td>2.0</td>\n",
       "      <td>0.0</td>\n",
       "      <td>0.0</td>\n",
       "      <td>0.0</td>\n",
       "      <td>28394</td>\n",
       "    </tr>\n",
       "    <tr>\n",
       "      <th>3</th>\n",
       "      <td>2017-09</td>\n",
       "      <td>Arkansas</td>\n",
       "      <td>2935.0</td>\n",
       "      <td>632.0</td>\n",
       "      <td>4347.0</td>\n",
       "      <td>6063.0</td>\n",
       "      <td>165.0</td>\n",
       "      <td>366</td>\n",
       "      <td>51.0</td>\n",
       "      <td>12.0</td>\n",
       "      <td>...</td>\n",
       "      <td>0.0</td>\n",
       "      <td>0.0</td>\n",
       "      <td>0.0</td>\n",
       "      <td>13.0</td>\n",
       "      <td>23.0</td>\n",
       "      <td>0.0</td>\n",
       "      <td>0.0</td>\n",
       "      <td>2.0</td>\n",
       "      <td>1.0</td>\n",
       "      <td>17747</td>\n",
       "    </tr>\n",
       "    <tr>\n",
       "      <th>4</th>\n",
       "      <td>2017-09</td>\n",
       "      <td>California</td>\n",
       "      <td>57839.0</td>\n",
       "      <td>0.0</td>\n",
       "      <td>37165.0</td>\n",
       "      <td>24581.0</td>\n",
       "      <td>2984.0</td>\n",
       "      <td>0</td>\n",
       "      <td>0.0</td>\n",
       "      <td>0.0</td>\n",
       "      <td>...</td>\n",
       "      <td>0.0</td>\n",
       "      <td>0.0</td>\n",
       "      <td>0.0</td>\n",
       "      <td>0.0</td>\n",
       "      <td>0.0</td>\n",
       "      <td>0.0</td>\n",
       "      <td>0.0</td>\n",
       "      <td>0.0</td>\n",
       "      <td>0.0</td>\n",
       "      <td>123506</td>\n",
       "    </tr>\n",
       "  </tbody>\n",
       "</table>\n",
       "<p>5 rows × 27 columns</p>\n",
       "</div>"
      ],
      "text/plain": [
       "     month       state   permit  permit_recheck  handgun  long_gun   other  \\\n",
       "0  2017-09     Alabama  16717.0             0.0   5734.0    6320.0   221.0   \n",
       "1  2017-09      Alaska    209.0             2.0   2320.0    2930.0   219.0   \n",
       "2  2017-09     Arizona   5069.0           382.0  11063.0    7946.0   920.0   \n",
       "3  2017-09    Arkansas   2935.0           632.0   4347.0    6063.0   165.0   \n",
       "4  2017-09  California  57839.0             0.0  37165.0   24581.0  2984.0   \n",
       "\n",
       "   multiple  admin  prepawn_handgun   ...    returned_other  rentals_handgun  \\\n",
       "0       317    0.0             15.0   ...               0.0              0.0   \n",
       "1       160    0.0              5.0   ...               0.0              0.0   \n",
       "2       631    0.0             13.0   ...               0.0              0.0   \n",
       "3       366   51.0             12.0   ...               0.0              0.0   \n",
       "4         0    0.0              0.0   ...               0.0              0.0   \n",
       "\n",
       "   rentals_long_gun  private_sale_handgun  private_sale_long_gun  \\\n",
       "0               0.0                   9.0                   16.0   \n",
       "1               0.0                  17.0                   24.0   \n",
       "2               0.0                  38.0                   12.0   \n",
       "3               0.0                  13.0                   23.0   \n",
       "4               0.0                   0.0                    0.0   \n",
       "\n",
       "   private_sale_other  return_to_seller_handgun  return_to_seller_long_gun  \\\n",
       "0                 3.0                       0.0                        0.0   \n",
       "1                 1.0                       0.0                        0.0   \n",
       "2                 2.0                       0.0                        0.0   \n",
       "3                 0.0                       0.0                        2.0   \n",
       "4                 0.0                       0.0                        0.0   \n",
       "\n",
       "   return_to_seller_other  totals  \n",
       "0                     3.0   32019  \n",
       "1                     0.0    6303  \n",
       "2                     0.0   28394  \n",
       "3                     1.0   17747  \n",
       "4                     0.0  123506  \n",
       "\n",
       "[5 rows x 27 columns]"
      ]
     },
     "execution_count": 4,
     "metadata": {},
     "output_type": "execute_result"
    }
   ],
   "source": [
    "gun_data.head()"
   ]
  },
  {
   "cell_type": "code",
   "execution_count": 5,
   "metadata": {},
   "outputs": [
    {
     "data": {
      "text/plain": [
       "(85, 52)"
      ]
     },
     "execution_count": 5,
     "metadata": {},
     "output_type": "execute_result"
    }
   ],
   "source": [
    "#What does the data look like\n",
    "census_data.shape"
   ]
  },
  {
   "cell_type": "code",
   "execution_count": 6,
   "metadata": {},
   "outputs": [
    {
     "data": {
      "text/plain": [
       "(12485, 27)"
      ]
     },
     "execution_count": 6,
     "metadata": {},
     "output_type": "execute_result"
    }
   ],
   "source": [
    "gun_data.shape"
   ]
  },
  {
   "cell_type": "code",
   "execution_count": 7,
   "metadata": {},
   "outputs": [],
   "source": [
    "#What are the summary statistics\n",
    "census_data.describe();\n",
    "gun_data.describe();"
   ]
  },
  {
   "cell_type": "markdown",
   "metadata": {},
   "source": [
    "### Data Cleaning "
   ]
  },
  {
   "cell_type": "code",
   "execution_count": 8,
   "metadata": {},
   "outputs": [],
   "source": [
    "#Drop columns in gun_data that aren't relevant to the questions I am trying to answer and print head to confirm that drop happened\n",
    "gun_data.drop(['permit_recheck', 'multiple','admin','prepawn_handgun','prepawn_long_gun','prepawn_other','redemption_other','returned_handgun','returned_long_gun','returned_other','rentals_handgun','rentals_long_gun','private_sale_handgun','private_sale_long_gun','private_sale_other','return_to_seller_handgun','return_to_seller_long_gun','return_to_seller_other','totals'], axis=1, inplace=True)\n"
   ]
  },
  {
   "cell_type": "code",
   "execution_count": 9,
   "metadata": {},
   "outputs": [
    {
     "data": {
      "text/html": [
       "<div>\n",
       "<style scoped>\n",
       "    .dataframe tbody tr th:only-of-type {\n",
       "        vertical-align: middle;\n",
       "    }\n",
       "\n",
       "    .dataframe tbody tr th {\n",
       "        vertical-align: top;\n",
       "    }\n",
       "\n",
       "    .dataframe thead th {\n",
       "        text-align: right;\n",
       "    }\n",
       "</style>\n",
       "<table border=\"1\" class=\"dataframe\">\n",
       "  <thead>\n",
       "    <tr style=\"text-align: right;\">\n",
       "      <th></th>\n",
       "      <th>month</th>\n",
       "      <th>state</th>\n",
       "      <th>permit</th>\n",
       "      <th>handgun</th>\n",
       "      <th>long_gun</th>\n",
       "      <th>other</th>\n",
       "      <th>redemption_handgun</th>\n",
       "      <th>redemption_long_gun</th>\n",
       "    </tr>\n",
       "  </thead>\n",
       "  <tbody>\n",
       "    <tr>\n",
       "      <th>0</th>\n",
       "      <td>2017-09</td>\n",
       "      <td>Alabama</td>\n",
       "      <td>16717.0</td>\n",
       "      <td>5734.0</td>\n",
       "      <td>6320.0</td>\n",
       "      <td>221.0</td>\n",
       "      <td>1378.0</td>\n",
       "      <td>1262.0</td>\n",
       "    </tr>\n",
       "    <tr>\n",
       "      <th>1</th>\n",
       "      <td>2017-09</td>\n",
       "      <td>Alaska</td>\n",
       "      <td>209.0</td>\n",
       "      <td>2320.0</td>\n",
       "      <td>2930.0</td>\n",
       "      <td>219.0</td>\n",
       "      <td>200.0</td>\n",
       "      <td>154.0</td>\n",
       "    </tr>\n",
       "    <tr>\n",
       "      <th>2</th>\n",
       "      <td>2017-09</td>\n",
       "      <td>Arizona</td>\n",
       "      <td>5069.0</td>\n",
       "      <td>11063.0</td>\n",
       "      <td>7946.0</td>\n",
       "      <td>920.0</td>\n",
       "      <td>1474.0</td>\n",
       "      <td>748.0</td>\n",
       "    </tr>\n",
       "    <tr>\n",
       "      <th>3</th>\n",
       "      <td>2017-09</td>\n",
       "      <td>Arkansas</td>\n",
       "      <td>2935.0</td>\n",
       "      <td>4347.0</td>\n",
       "      <td>6063.0</td>\n",
       "      <td>165.0</td>\n",
       "      <td>1296.0</td>\n",
       "      <td>1824.0</td>\n",
       "    </tr>\n",
       "    <tr>\n",
       "      <th>4</th>\n",
       "      <td>2017-09</td>\n",
       "      <td>California</td>\n",
       "      <td>57839.0</td>\n",
       "      <td>37165.0</td>\n",
       "      <td>24581.0</td>\n",
       "      <td>2984.0</td>\n",
       "      <td>535.0</td>\n",
       "      <td>397.0</td>\n",
       "    </tr>\n",
       "  </tbody>\n",
       "</table>\n",
       "</div>"
      ],
      "text/plain": [
       "     month       state   permit  handgun  long_gun   other  \\\n",
       "0  2017-09     Alabama  16717.0   5734.0    6320.0   221.0   \n",
       "1  2017-09      Alaska    209.0   2320.0    2930.0   219.0   \n",
       "2  2017-09     Arizona   5069.0  11063.0    7946.0   920.0   \n",
       "3  2017-09    Arkansas   2935.0   4347.0    6063.0   165.0   \n",
       "4  2017-09  California  57839.0  37165.0   24581.0  2984.0   \n",
       "\n",
       "   redemption_handgun  redemption_long_gun  \n",
       "0              1378.0               1262.0  \n",
       "1               200.0                154.0  \n",
       "2              1474.0                748.0  \n",
       "3              1296.0               1824.0  \n",
       "4               535.0                397.0  "
      ]
     },
     "execution_count": 9,
     "metadata": {},
     "output_type": "execute_result"
    }
   ],
   "source": [
    "gun_data.head() #Confirm that data was successfully dropped"
   ]
  },
  {
   "cell_type": "code",
   "execution_count": 117,
   "metadata": {},
   "outputs": [],
   "source": [
    "gun_data['month'] = pd.to_datetime(gun_data['month']) #Convert month to datetime object"
   ]
  },
  {
   "cell_type": "code",
   "execution_count": 10,
   "metadata": {},
   "outputs": [],
   "source": [
    "#Drop columns in census that aren't relevant to my questions\n",
    "census_data.drop(['Fact Note'] ,axis=1, inplace=True) # Drop the Fact Note Column since I don't need it"
   ]
  },
  {
   "cell_type": "code",
   "execution_count": 11,
   "metadata": {},
   "outputs": [],
   "source": [
    "census_data.head() # Check that Fact Note was indeed dropped\n",
    "census_data.set_index('Fact', inplace=True) #Reset Index to Fact"
   ]
  },
  {
   "cell_type": "code",
   "execution_count": 12,
   "metadata": {},
   "outputs": [],
   "source": [
    "#Make tuple of rows I want to keep for comparison\n",
    "census_data_list = census_data.iloc[0],census_data.iloc[29],census_data.iloc[35],census_data.iloc[47] \n",
    "census_data_list = pd.DataFrame (list(census_data_list)) # Convert tuple to dataframe "
   ]
  },
  {
   "cell_type": "code",
   "execution_count": 64,
   "metadata": {},
   "outputs": [
    {
     "data": {
      "text/html": [
       "<div>\n",
       "<style scoped>\n",
       "    .dataframe tbody tr th:only-of-type {\n",
       "        vertical-align: middle;\n",
       "    }\n",
       "\n",
       "    .dataframe tbody tr th {\n",
       "        vertical-align: top;\n",
       "    }\n",
       "\n",
       "    .dataframe thead th {\n",
       "        text-align: right;\n",
       "    }\n",
       "</style>\n",
       "<table border=\"1\" class=\"dataframe\">\n",
       "  <thead>\n",
       "    <tr style=\"text-align: right;\">\n",
       "      <th></th>\n",
       "      <th>Alabama</th>\n",
       "      <th>Alaska</th>\n",
       "      <th>Arizona</th>\n",
       "      <th>Arkansas</th>\n",
       "      <th>California</th>\n",
       "      <th>Colorado</th>\n",
       "      <th>Connecticut</th>\n",
       "      <th>Delaware</th>\n",
       "      <th>Florida</th>\n",
       "      <th>Georgia</th>\n",
       "      <th>...</th>\n",
       "      <th>South Dakota</th>\n",
       "      <th>Tennessee</th>\n",
       "      <th>Texas</th>\n",
       "      <th>Utah</th>\n",
       "      <th>Vermont</th>\n",
       "      <th>Virginia</th>\n",
       "      <th>Washington</th>\n",
       "      <th>West Virginia</th>\n",
       "      <th>Wisconsin</th>\n",
       "      <th>Wyoming</th>\n",
       "    </tr>\n",
       "  </thead>\n",
       "  <tbody>\n",
       "    <tr>\n",
       "      <th>Population estimates, July 1, 2016,  (V2016)</th>\n",
       "      <td>4863300</td>\n",
       "      <td>741894</td>\n",
       "      <td>6931071</td>\n",
       "      <td>2988248</td>\n",
       "      <td>39250017</td>\n",
       "      <td>5540545</td>\n",
       "      <td>3576452</td>\n",
       "      <td>952065</td>\n",
       "      <td>20612439</td>\n",
       "      <td>10310371</td>\n",
       "      <td>...</td>\n",
       "      <td>865454</td>\n",
       "      <td>6651194</td>\n",
       "      <td>27862596</td>\n",
       "      <td>3051217</td>\n",
       "      <td>624594</td>\n",
       "      <td>8411808</td>\n",
       "      <td>7288000</td>\n",
       "      <td>1831102</td>\n",
       "      <td>5778708</td>\n",
       "      <td>585501</td>\n",
       "    </tr>\n",
       "    <tr>\n",
       "      <th>Building permits, 2016</th>\n",
       "      <td>15001</td>\n",
       "      <td>1503</td>\n",
       "      <td>35578</td>\n",
       "      <td>9474</td>\n",
       "      <td>102350</td>\n",
       "      <td>38974</td>\n",
       "      <td>5504</td>\n",
       "      <td>5804</td>\n",
       "      <td>116240</td>\n",
       "      <td>51675</td>\n",
       "      <td>...</td>\n",
       "      <td>5686</td>\n",
       "      <td>36157</td>\n",
       "      <td>165853</td>\n",
       "      <td>22662</td>\n",
       "      <td>1771</td>\n",
       "      <td>31132</td>\n",
       "      <td>44077</td>\n",
       "      <td>2544</td>\n",
       "      <td>19274</td>\n",
       "      <td>1727</td>\n",
       "    </tr>\n",
       "    <tr>\n",
       "      <th>Bachelor's degree or higher, percent of persons age 25 years+, 2011-2015</th>\n",
       "      <td>0.235</td>\n",
       "      <td>0.28</td>\n",
       "      <td>0.275</td>\n",
       "      <td>0.211</td>\n",
       "      <td>0.314</td>\n",
       "      <td>0.381</td>\n",
       "      <td>0.376</td>\n",
       "      <td>0.3</td>\n",
       "      <td>0.273</td>\n",
       "      <td>0.288</td>\n",
       "      <td>...</td>\n",
       "      <td>0.27</td>\n",
       "      <td>0.249</td>\n",
       "      <td>0.276</td>\n",
       "      <td>0.311</td>\n",
       "      <td>0.36</td>\n",
       "      <td>0.363</td>\n",
       "      <td>0.329</td>\n",
       "      <td>0.192</td>\n",
       "      <td>0.278</td>\n",
       "      <td>0.257</td>\n",
       "    </tr>\n",
       "    <tr>\n",
       "      <th>Median household income (in 2015 dollars), 2011-2015</th>\n",
       "      <td>43623</td>\n",
       "      <td>72515</td>\n",
       "      <td>50255</td>\n",
       "      <td>41371</td>\n",
       "      <td>61818</td>\n",
       "      <td>60629</td>\n",
       "      <td>70331</td>\n",
       "      <td>60509</td>\n",
       "      <td>47507</td>\n",
       "      <td>49620</td>\n",
       "      <td>...</td>\n",
       "      <td>50957</td>\n",
       "      <td>45219</td>\n",
       "      <td>53207</td>\n",
       "      <td>60727</td>\n",
       "      <td>55176</td>\n",
       "      <td>65015</td>\n",
       "      <td>61062</td>\n",
       "      <td>41751</td>\n",
       "      <td>53357</td>\n",
       "      <td>58840</td>\n",
       "    </tr>\n",
       "  </tbody>\n",
       "</table>\n",
       "<p>4 rows × 50 columns</p>\n",
       "</div>"
      ],
      "text/plain": [
       "                                                    Alabama  Alaska  Arizona  \\\n",
       "Population estimates, July 1, 2016,  (V2016)        4863300  741894  6931071   \n",
       "Building permits, 2016                                15001    1503    35578   \n",
       "Bachelor's degree or higher, percent of persons...    0.235    0.28    0.275   \n",
       "Median household income (in 2015 dollars), 2011...    43623   72515    50255   \n",
       "\n",
       "                                                   Arkansas California  \\\n",
       "Population estimates, July 1, 2016,  (V2016)        2988248   39250017   \n",
       "Building permits, 2016                                 9474     102350   \n",
       "Bachelor's degree or higher, percent of persons...    0.211      0.314   \n",
       "Median household income (in 2015 dollars), 2011...    41371      61818   \n",
       "\n",
       "                                                   Colorado Connecticut  \\\n",
       "Population estimates, July 1, 2016,  (V2016)        5540545     3576452   \n",
       "Building permits, 2016                                38974        5504   \n",
       "Bachelor's degree or higher, percent of persons...    0.381       0.376   \n",
       "Median household income (in 2015 dollars), 2011...    60629       70331   \n",
       "\n",
       "                                                   Delaware   Florida  \\\n",
       "Population estimates, July 1, 2016,  (V2016)         952065  20612439   \n",
       "Building permits, 2016                                 5804    116240   \n",
       "Bachelor's degree or higher, percent of persons...      0.3     0.273   \n",
       "Median household income (in 2015 dollars), 2011...    60509     47507   \n",
       "\n",
       "                                                     Georgia   ...    \\\n",
       "Population estimates, July 1, 2016,  (V2016)        10310371   ...     \n",
       "Building permits, 2016                                 51675   ...     \n",
       "Bachelor's degree or higher, percent of persons...     0.288   ...     \n",
       "Median household income (in 2015 dollars), 2011...     49620   ...     \n",
       "\n",
       "                                                   South Dakota Tennessee  \\\n",
       "Population estimates, July 1, 2016,  (V2016)             865454   6651194   \n",
       "Building permits, 2016                                     5686     36157   \n",
       "Bachelor's degree or higher, percent of persons...         0.27     0.249   \n",
       "Median household income (in 2015 dollars), 2011...        50957     45219   \n",
       "\n",
       "                                                       Texas     Utah Vermont  \\\n",
       "Population estimates, July 1, 2016,  (V2016)        27862596  3051217  624594   \n",
       "Building permits, 2016                                165853    22662    1771   \n",
       "Bachelor's degree or higher, percent of persons...     0.276    0.311    0.36   \n",
       "Median household income (in 2015 dollars), 2011...     53207    60727   55176   \n",
       "\n",
       "                                                   Virginia Washington  \\\n",
       "Population estimates, July 1, 2016,  (V2016)        8411808    7288000   \n",
       "Building permits, 2016                                31132      44077   \n",
       "Bachelor's degree or higher, percent of persons...    0.363      0.329   \n",
       "Median household income (in 2015 dollars), 2011...    65015      61062   \n",
       "\n",
       "                                                   West Virginia Wisconsin  \\\n",
       "Population estimates, July 1, 2016,  (V2016)             1831102   5778708   \n",
       "Building permits, 2016                                      2544     19274   \n",
       "Bachelor's degree or higher, percent of persons...         0.192     0.278   \n",
       "Median household income (in 2015 dollars), 2011...         41751     53357   \n",
       "\n",
       "                                                   Wyoming  \n",
       "Population estimates, July 1, 2016,  (V2016)        585501  \n",
       "Building permits, 2016                                1727  \n",
       "Bachelor's degree or higher, percent of persons...   0.257  \n",
       "Median household income (in 2015 dollars), 2011...   58840  \n",
       "\n",
       "[4 rows x 50 columns]"
      ]
     },
     "execution_count": 64,
     "metadata": {},
     "output_type": "execute_result"
    }
   ],
   "source": [
    "#Output the resulting dataframe to check that desired columns remained\n",
    "census_data_list.head()"
   ]
  },
  {
   "cell_type": "code",
   "execution_count": 65,
   "metadata": {},
   "outputs": [
    {
     "data": {
      "text/html": [
       "<div>\n",
       "<style scoped>\n",
       "    .dataframe tbody tr th:only-of-type {\n",
       "        vertical-align: middle;\n",
       "    }\n",
       "\n",
       "    .dataframe tbody tr th {\n",
       "        vertical-align: top;\n",
       "    }\n",
       "\n",
       "    .dataframe thead th {\n",
       "        text-align: right;\n",
       "    }\n",
       "</style>\n",
       "<table border=\"1\" class=\"dataframe\">\n",
       "  <thead>\n",
       "    <tr style=\"text-align: right;\">\n",
       "      <th></th>\n",
       "      <th>Population estimates, July 1, 2016,  (V2016)</th>\n",
       "      <th>Building permits, 2016</th>\n",
       "      <th>Bachelor's degree or higher, percent of persons age 25 years+, 2011-2015</th>\n",
       "      <th>Median household income (in 2015 dollars), 2011-2015</th>\n",
       "    </tr>\n",
       "  </thead>\n",
       "  <tbody>\n",
       "    <tr>\n",
       "      <th>Alabama</th>\n",
       "      <td>4863300</td>\n",
       "      <td>15001</td>\n",
       "      <td>0.235</td>\n",
       "      <td>43623</td>\n",
       "    </tr>\n",
       "    <tr>\n",
       "      <th>Alaska</th>\n",
       "      <td>741894</td>\n",
       "      <td>1503</td>\n",
       "      <td>0.28</td>\n",
       "      <td>72515</td>\n",
       "    </tr>\n",
       "    <tr>\n",
       "      <th>Arizona</th>\n",
       "      <td>6931071</td>\n",
       "      <td>35578</td>\n",
       "      <td>0.275</td>\n",
       "      <td>50255</td>\n",
       "    </tr>\n",
       "    <tr>\n",
       "      <th>Arkansas</th>\n",
       "      <td>2988248</td>\n",
       "      <td>9474</td>\n",
       "      <td>0.211</td>\n",
       "      <td>41371</td>\n",
       "    </tr>\n",
       "    <tr>\n",
       "      <th>California</th>\n",
       "      <td>39250017</td>\n",
       "      <td>102350</td>\n",
       "      <td>0.314</td>\n",
       "      <td>61818</td>\n",
       "    </tr>\n",
       "  </tbody>\n",
       "</table>\n",
       "</div>"
      ],
      "text/plain": [
       "           Population estimates, July 1, 2016,  (V2016)  \\\n",
       "Alabama                                         4863300   \n",
       "Alaska                                           741894   \n",
       "Arizona                                         6931071   \n",
       "Arkansas                                        2988248   \n",
       "California                                     39250017   \n",
       "\n",
       "           Building permits, 2016  \\\n",
       "Alabama                     15001   \n",
       "Alaska                       1503   \n",
       "Arizona                     35578   \n",
       "Arkansas                     9474   \n",
       "California                 102350   \n",
       "\n",
       "           Bachelor's degree or higher, percent of persons age 25 years+, 2011-2015  \\\n",
       "Alabama                                                 0.235                         \n",
       "Alaska                                                   0.28                         \n",
       "Arizona                                                 0.275                         \n",
       "Arkansas                                                0.211                         \n",
       "California                                              0.314                         \n",
       "\n",
       "           Median household income (in 2015 dollars), 2011-2015  \n",
       "Alabama                                                 43623    \n",
       "Alaska                                                  72515    \n",
       "Arizona                                                 50255    \n",
       "Arkansas                                                41371    \n",
       "California                                              61818    "
      ]
     },
     "execution_count": 65,
     "metadata": {},
     "output_type": "execute_result"
    }
   ],
   "source": [
    "# Transpose dataframe so that we can easily compare dataframes with the gun_data dataframe \n",
    "# since state data will now be in the first column \n",
    "census_data_list = census_data_list.transpose()\n",
    "census_data_list.head() "
   ]
  },
  {
   "cell_type": "code",
   "execution_count": 20,
   "metadata": {},
   "outputs": [
    {
     "data": {
      "text/plain": [
       "(50, 4)"
      ]
     },
     "execution_count": 20,
     "metadata": {},
     "output_type": "execute_result"
    }
   ],
   "source": [
    "#Check shape to make sure all 50 states show up in our dataframe\n",
    "census_data_list.shape"
   ]
  },
  {
   "cell_type": "markdown",
   "metadata": {},
   "source": [
    "<a id='eda'></a>\n",
    "## Exploratory Data Analysis\n",
    "\n",
    "Now that the data is trimmed and cleaned, I move on to the exploration. In the following section, I compute statistics and create visualizations to address the research questions posed in the Introduction section.\n"
   ]
  },
  {
   "cell_type": "markdown",
   "metadata": {},
   "source": [
    "### What kinds of guns are people applying permits for?"
   ]
  },
  {
   "cell_type": "code",
   "execution_count": 121,
   "metadata": {},
   "outputs": [],
   "source": [
    "#I get the specific columns for hand guns and long guns from the gun_data dataframe\n",
    "perm_h = gun_data.iloc[:,3] #handguns\n",
    "perm_l = gun_data.iloc[:,4] #long_guns\n",
    "z_time = gun_data.iloc[:,0] #time variable"
   ]
  },
  {
   "cell_type": "code",
   "execution_count": 124,
   "metadata": {
    "scrolled": true
   },
   "outputs": [
    {
     "data": {
      "image/png": "[encoded data removed]",
      "text/plain": [
       "<Figure size 432x288 with 1 Axes>"
      ]
     },
     "metadata": {},
     "output_type": "display_data"
    }
   ],
   "source": [
    "#I make a plot of hand_guns over time and long_guns over time on the same graph to compare the trend\n",
    "first = plt.plot(z_time,perm_h, color = 'blue') #handguns vs permits for each state\n",
    "second = plt.plot(z_time,perm_l, color='green', alpha =0.5) #long_guns vs permits for each state\n",
    "plt.ylabel('Number of Permits')\n",
    "plt.title('Hand gun vs long gun permits over time')\n",
    "plt.xlabel('Time')\n",
    "plt.legend()\n",
    "plt.show()"
   ]
  },
  {
   "cell_type": "markdown",
   "metadata": {},
   "source": [
    "From the mixed plot above, we can see that the permits for both guns appear to be cyclical. This could be partly explained by the seasonality of most of the regions. As an example, most people would not be using guns outside during the winter or outside of hunting season. People would still be purchasing firearms for protection or indoor shooting, so the rate would not fall to zero. On average, it appears that most people in the different states are applying for more permits to own long guns than they do for regular hand guns. The general trend for permit applications appears to be increasing for both types of firearms."
   ]
  },
  {
   "cell_type": "markdown",
   "metadata": {},
   "source": [
    "### How does redemption data compare between the types of firearms overall?"
   ]
  },
  {
   "cell_type": "code",
   "execution_count": 24,
   "metadata": {},
   "outputs": [],
   "source": [
    "#Select hand guns and long guns columns from dataframe\n",
    "red_h = gun_data.iloc[:,6] #redemption_handgun\n",
    "red_l = gun_data.iloc[:,3] #redemption longgun"
   ]
  },
  {
   "cell_type": "code",
   "execution_count": 29,
   "metadata": {},
   "outputs": [
    {
     "data": {
      "image/png": "[encoded data removed]",
      "text/plain": [
       "<Figure size 432x288 with 1 Axes>"
      ]
     },
     "metadata": {},
     "output_type": "display_data"
    }
   ],
   "source": [
    "#PLot a pie chart to show the distribution\n",
    "data = [red_h.sum(),red_l.sum()]\n",
    "labels = 'Handgun redemption', 'Longgun redemption'\n",
    "plt.pie(data, autopct='%1.1f%%')\n",
    "plt.legend(labels, loc=0)\n",
    "plt.axis = ('equal')\n",
    "plt.title('Pie chart showing proportion of firearm redemption')\n",
    "plt.show()"
   ]
  },
  {
   "cell_type": "markdown",
   "metadata": {},
   "source": [
    "More people redeem long guns than they do handguns which is inline with  the type of permits they are applying for as we saw in the previous question. There appears to be an overwhelming amount of longgun redemption so we might want to look at the data and see why this number is so disproportional.  "
   ]
  },
  {
   "cell_type": "markdown",
   "metadata": {},
   "source": [
    "### How does the percentage of people with Bachelor's degree affect permit applications?"
   ]
  },
  {
   "cell_type": "markdown",
   "metadata": {},
   "source": [
    "The data from the gun_file has data for multiple years but the census data file only has a snapshot from certain timeperiods, I will take the population estimates from 2016 and compare that with gun data for the average of 2016 data"
   ]
  },
  {
   "cell_type": "code",
   "execution_count": 30,
   "metadata": {},
   "outputs": [
    {
     "data": {
      "text/html": [
       "<div>\n",
       "<style scoped>\n",
       "    .dataframe tbody tr th:only-of-type {\n",
       "        vertical-align: middle;\n",
       "    }\n",
       "\n",
       "    .dataframe tbody tr th {\n",
       "        vertical-align: top;\n",
       "    }\n",
       "\n",
       "    .dataframe thead th {\n",
       "        text-align: right;\n",
       "    }\n",
       "</style>\n",
       "<table border=\"1\" class=\"dataframe\">\n",
       "  <thead>\n",
       "    <tr style=\"text-align: right;\">\n",
       "      <th></th>\n",
       "      <th>permit</th>\n",
       "      <th>handgun</th>\n",
       "      <th>long_gun</th>\n",
       "      <th>other</th>\n",
       "      <th>redemption_handgun</th>\n",
       "      <th>redemption_long_gun</th>\n",
       "      <th>year</th>\n",
       "    </tr>\n",
       "    <tr>\n",
       "      <th>state</th>\n",
       "      <th></th>\n",
       "      <th></th>\n",
       "      <th></th>\n",
       "      <th></th>\n",
       "      <th></th>\n",
       "      <th></th>\n",
       "      <th></th>\n",
       "    </tr>\n",
       "  </thead>\n",
       "  <tbody>\n",
       "    <tr>\n",
       "      <th>Alabama</th>\n",
       "      <td>24253.250000</td>\n",
       "      <td>12760.250000</td>\n",
       "      <td>10163.583333</td>\n",
       "      <td>508.666667</td>\n",
       "      <td>1669.666667</td>\n",
       "      <td>1474.750000</td>\n",
       "      <td>2016</td>\n",
       "    </tr>\n",
       "    <tr>\n",
       "      <th>Alaska</th>\n",
       "      <td>260.083333</td>\n",
       "      <td>3124.250000</td>\n",
       "      <td>3073.916667</td>\n",
       "      <td>240.750000</td>\n",
       "      <td>186.166667</td>\n",
       "      <td>170.500000</td>\n",
       "      <td>2016</td>\n",
       "    </tr>\n",
       "    <tr>\n",
       "      <th>Arizona</th>\n",
       "      <td>7314.250000</td>\n",
       "      <td>13898.666667</td>\n",
       "      <td>9082.333333</td>\n",
       "      <td>1093.500000</td>\n",
       "      <td>1381.333333</td>\n",
       "      <td>699.166667</td>\n",
       "      <td>2016</td>\n",
       "    </tr>\n",
       "    <tr>\n",
       "      <th>Arkansas</th>\n",
       "      <td>4621.333333</td>\n",
       "      <td>6687.000000</td>\n",
       "      <td>6843.333333</td>\n",
       "      <td>254.916667</td>\n",
       "      <td>1053.750000</td>\n",
       "      <td>1711.000000</td>\n",
       "      <td>2016</td>\n",
       "    </tr>\n",
       "    <tr>\n",
       "      <th>California</th>\n",
       "      <td>86415.083333</td>\n",
       "      <td>46696.250000</td>\n",
       "      <td>46212.500000</td>\n",
       "      <td>17642.250000</td>\n",
       "      <td>562.666667</td>\n",
       "      <td>553.750000</td>\n",
       "      <td>2016</td>\n",
       "    </tr>\n",
       "  </tbody>\n",
       "</table>\n",
       "</div>"
      ],
      "text/plain": [
       "                  permit       handgun      long_gun         other  \\\n",
       "state                                                                \n",
       "Alabama     24253.250000  12760.250000  10163.583333    508.666667   \n",
       "Alaska        260.083333   3124.250000   3073.916667    240.750000   \n",
       "Arizona      7314.250000  13898.666667   9082.333333   1093.500000   \n",
       "Arkansas     4621.333333   6687.000000   6843.333333    254.916667   \n",
       "California  86415.083333  46696.250000  46212.500000  17642.250000   \n",
       "\n",
       "            redemption_handgun  redemption_long_gun  year  \n",
       "state                                                      \n",
       "Alabama            1669.666667          1474.750000  2016  \n",
       "Alaska              186.166667           170.500000  2016  \n",
       "Arizona            1381.333333           699.166667  2016  \n",
       "Arkansas           1053.750000          1711.000000  2016  \n",
       "California          562.666667           553.750000  2016  "
      ]
     },
     "execution_count": 30,
     "metadata": {},
     "output_type": "execute_result"
    }
   ],
   "source": [
    "#Mean gun data of 2016 to compare with 2016 Census data\n",
    "m_2df = pd.to_datetime(gun_data['month']); #month to dataframe\n",
    "gun_data['year'] = m_2df.dt.year #make year column\n",
    "x = gun_data.loc[gun_data['year'] == 2016]; # Get 2016 data\n",
    "gun_summary_df = x.groupby('state').mean(); # Mean of 2016 data by state\n",
    "gun_summary_df.head()"
   ]
  },
  {
   "cell_type": "code",
   "execution_count": 31,
   "metadata": {},
   "outputs": [
    {
     "data": {
      "text/html": [
       "<div>\n",
       "<style scoped>\n",
       "    .dataframe tbody tr th:only-of-type {\n",
       "        vertical-align: middle;\n",
       "    }\n",
       "\n",
       "    .dataframe tbody tr th {\n",
       "        vertical-align: top;\n",
       "    }\n",
       "\n",
       "    .dataframe thead th {\n",
       "        text-align: right;\n",
       "    }\n",
       "</style>\n",
       "<table border=\"1\" class=\"dataframe\">\n",
       "  <thead>\n",
       "    <tr style=\"text-align: right;\">\n",
       "      <th></th>\n",
       "      <th>Population estimates, July 1, 2016,  (V2016)</th>\n",
       "      <th>Building permits, 2016</th>\n",
       "      <th>Bachelor's degree or higher, percent of persons age 25 years+, 2011-2015</th>\n",
       "      <th>Median household income (in 2015 dollars), 2011-2015</th>\n",
       "      <th>permit</th>\n",
       "    </tr>\n",
       "  </thead>\n",
       "  <tbody>\n",
       "    <tr>\n",
       "      <th>Alabama</th>\n",
       "      <td>4863300</td>\n",
       "      <td>15001</td>\n",
       "      <td>0.235</td>\n",
       "      <td>43623</td>\n",
       "      <td>24253.250000</td>\n",
       "    </tr>\n",
       "    <tr>\n",
       "      <th>Alaska</th>\n",
       "      <td>741894</td>\n",
       "      <td>1503</td>\n",
       "      <td>0.28</td>\n",
       "      <td>72515</td>\n",
       "      <td>260.083333</td>\n",
       "    </tr>\n",
       "    <tr>\n",
       "      <th>Arizona</th>\n",
       "      <td>6931071</td>\n",
       "      <td>35578</td>\n",
       "      <td>0.275</td>\n",
       "      <td>50255</td>\n",
       "      <td>7314.250000</td>\n",
       "    </tr>\n",
       "    <tr>\n",
       "      <th>Arkansas</th>\n",
       "      <td>2988248</td>\n",
       "      <td>9474</td>\n",
       "      <td>0.211</td>\n",
       "      <td>41371</td>\n",
       "      <td>4621.333333</td>\n",
       "    </tr>\n",
       "    <tr>\n",
       "      <th>California</th>\n",
       "      <td>39250017</td>\n",
       "      <td>102350</td>\n",
       "      <td>0.314</td>\n",
       "      <td>61818</td>\n",
       "      <td>86415.083333</td>\n",
       "    </tr>\n",
       "  </tbody>\n",
       "</table>\n",
       "</div>"
      ],
      "text/plain": [
       "           Population estimates, July 1, 2016,  (V2016)  \\\n",
       "Alabama                                         4863300   \n",
       "Alaska                                           741894   \n",
       "Arizona                                         6931071   \n",
       "Arkansas                                        2988248   \n",
       "California                                     39250017   \n",
       "\n",
       "           Building permits, 2016  \\\n",
       "Alabama                     15001   \n",
       "Alaska                       1503   \n",
       "Arizona                     35578   \n",
       "Arkansas                     9474   \n",
       "California                 102350   \n",
       "\n",
       "           Bachelor's degree or higher, percent of persons age 25 years+, 2011-2015  \\\n",
       "Alabama                                                 0.235                         \n",
       "Alaska                                                   0.28                         \n",
       "Arizona                                                 0.275                         \n",
       "Arkansas                                                0.211                         \n",
       "California                                              0.314                         \n",
       "\n",
       "           Median household income (in 2015 dollars), 2011-2015        permit  \n",
       "Alabama                                                 43623    24253.250000  \n",
       "Alaska                                                  72515      260.083333  \n",
       "Arizona                                                 50255     7314.250000  \n",
       "Arkansas                                                41371     4621.333333  \n",
       "California                                              61818    86415.083333  "
      ]
     },
     "execution_count": 31,
     "metadata": {},
     "output_type": "execute_result"
    }
   ],
   "source": [
    "#Merge the gun_data dataframe with the census_data_list dataframe and output to confirm merge\n",
    "perm_df = pd.DataFrame(gun_summary_df['permit']);\n",
    "summary_df = census_data_list.join(perm_df);\n",
    "summary_df.head()"
   ]
  },
  {
   "cell_type": "code",
   "execution_count": 34,
   "metadata": {},
   "outputs": [
    {
     "data": {
      "image/png": "[encoded data removed]",
      "text/plain": [
       "<Figure size 432x288 with 1 Axes>"
      ]
     },
     "metadata": {},
     "output_type": "display_data"
    }
   ],
   "source": [
    "#Plot percentage college degrees and above vs permit applications in states\n",
    "x = summary_df.iloc[:,2] # College Degrees\n",
    "x = pd.to_numeric(x) #Convert column from object to numeric so that I can plot it\n",
    "y = summary_df.iloc[:,4]; #Permit\n",
    "\n",
    "#Line of best fit with np.ployfit to see relationship\n",
    "m, b = np.polyfit(x, y, 1)\n",
    "\n",
    "plt.plot(x, y, '.', label='permit')\n",
    "plt.plot(x, m*x +b, '-', label='regression line')\n",
    "\n",
    "plt.ylabel('Number of permits')\n",
    "plt.xlabel('% of population with college degrees')\n",
    "plt.legend(loc=1)\n",
    "plt.title('Comparing rates of college graduates and gun permit application')\n",
    "plt.show();"
   ]
  },
  {
   "cell_type": "markdown",
   "metadata": {},
   "source": [
    "From the plot, it appears that as there is a slight negative correlation between the percentage of people with college degrees and the permit applications in states. States with a higher percentage of college graduates appear to apply for a lower number of permits. It appears that there is an outlier state that has a high number of permit applications even though its proportion of college graduates to that of the general population is low."
   ]
  },
  {
   "cell_type": "markdown",
   "metadata": {},
   "source": [
    "### To Shoot or to Build: Comparing Business permits vs Firearm permits"
   ]
  },
  {
   "cell_type": "code",
   "execution_count": 186,
   "metadata": {
    "scrolled": false
   },
   "outputs": [
    {
     "data": {
      "image/png": "[encoded data removed]",
      "text/plain": [
       "<Figure size 432x288 with 1 Axes>"
      ]
     },
     "metadata": {},
     "output_type": "display_data"
    }
   ],
   "source": [
    "stack_comp = summary_df[['Building permits, 2016','permit']].plot(kind='bar', stacked=True);\n",
    "stack_comp.set_xlabel('State');\n",
    "stack_comp.set_ylabel('Permits');\n",
    "stack_comp.set_title('Comparison of building permits and gun permits');\n"
   ]
  },
  {
   "cell_type": "code",
   "execution_count": 191,
   "metadata": {},
   "outputs": [
    {
     "data": {
      "text/plain": [
       "Text(0.5,1,'Comparing the types of permits by total amounts')"
      ]
     },
     "execution_count": 191,
     "metadata": {},
     "output_type": "execute_result"
    },
    {
     "data": {
      "image/png": "[encoded data removed]",
      "text/plain": [
       "<Figure size 432x288 with 1 Axes>"
      ]
     },
     "metadata": {},
     "output_type": "display_data"
    }
   ],
   "source": [
    "combined_bar = summary_df[['Building permits, 2016','permit']].sum().plot(kind='bar', stacked=True);\n",
    "combined_bar.set_xlabel('Type of Permit');\n",
    "combined_bar.set_ylabel('Total number of permits');\n",
    "combined_bar.set_title('Comparing the types of permits by total amounts');"
   ]
  },
  {
   "cell_type": "markdown",
   "metadata": {},
   "source": [
    "From the above graphs, it is clear that building permits in most states edge out gun permits but not by a large amount. In fact, it is interesting to note that in a couple of states like Kentucky, the number of gun permits far outnumber those of building permits"
   ]
  },
  {
   "cell_type": "markdown",
   "metadata": {},
   "source": [
    "### Which states have had the highest growth in gun registrations?"
   ]
  },
  {
   "cell_type": "markdown",
   "metadata": {},
   "source": [
    "For this question, I will look at the average data from 2010 and compare it with that from 2017"
   ]
  },
  {
   "cell_type": "code",
   "execution_count": 294,
   "metadata": {},
   "outputs": [],
   "source": [
    "#Relationship between states and gun permits over time\n",
    "x = gun_data.groupby(['state'])\n",
    "#hand guns vs long guns vs other guns in the states. Here I define the variables\n",
    "m_2df = pd.to_datetime(gun_data['month']); #month to dataframe\n",
    "gun_data['year'] = m_2df.dt.year #make year column\n",
    "x = gun_data.loc[gun_data['year'] == 2012]; # Get 2012 data\n",
    "gun_summary_df = x.groupby('state').mean(); # Mean of 2012 data by state\n",
    "perm_2012 = pd.DataFrame(gun_summary_df['permit'])\n"
   ]
  },
  {
   "cell_type": "code",
   "execution_count": 320,
   "metadata": {},
   "outputs": [],
   "source": [
    "y = gun_data.loc[gun_data['year'] == 2017];\n",
    "gun_summary_df = y.groupby('state').mean(); # Mean of 2017 data by state\n",
    "perm_2017 = pd.DataFrame(gun_summary_df['permit']);"
   ]
  },
  {
   "cell_type": "code",
   "execution_count": 363,
   "metadata": {
    "scrolled": true
   },
   "outputs": [
    {
     "data": {
      "text/html": [
       "<div>\n",
       "<style scoped>\n",
       "    .dataframe tbody tr th:only-of-type {\n",
       "        vertical-align: middle;\n",
       "    }\n",
       "\n",
       "    .dataframe tbody tr th {\n",
       "        vertical-align: top;\n",
       "    }\n",
       "\n",
       "    .dataframe thead th {\n",
       "        text-align: right;\n",
       "    }\n",
       "</style>\n",
       "<table border=\"1\" class=\"dataframe\">\n",
       "  <thead>\n",
       "    <tr style=\"text-align: right;\">\n",
       "      <th></th>\n",
       "      <th>2017 Permit Data</th>\n",
       "      <th>2012 Permit Data</th>\n",
       "      <th>% Growth</th>\n",
       "    </tr>\n",
       "    <tr>\n",
       "      <th>state</th>\n",
       "      <th></th>\n",
       "      <th></th>\n",
       "      <th></th>\n",
       "    </tr>\n",
       "  </thead>\n",
       "  <tbody>\n",
       "    <tr>\n",
       "      <th>Ohio</th>\n",
       "      <td>12165.888889</td>\n",
       "      <td>0.0</td>\n",
       "      <td>12165.888889</td>\n",
       "    </tr>\n",
       "    <tr>\n",
       "      <th>Louisiana</th>\n",
       "      <td>2615.111111</td>\n",
       "      <td>0.0</td>\n",
       "      <td>2615.111111</td>\n",
       "    </tr>\n",
       "    <tr>\n",
       "      <th>South Dakota</th>\n",
       "      <td>1261.666667</td>\n",
       "      <td>0.0</td>\n",
       "      <td>1261.666667</td>\n",
       "    </tr>\n",
       "    <tr>\n",
       "      <th>Virginia</th>\n",
       "      <td>1011.888889</td>\n",
       "      <td>0.0</td>\n",
       "      <td>1011.888889</td>\n",
       "    </tr>\n",
       "    <tr>\n",
       "      <th>Maine</th>\n",
       "      <td>721.555556</td>\n",
       "      <td>0.0</td>\n",
       "      <td>721.555556</td>\n",
       "    </tr>\n",
       "  </tbody>\n",
       "</table>\n",
       "</div>"
      ],
      "text/plain": [
       "              2017 Permit Data  2012 Permit Data      % Growth\n",
       "state                                                         \n",
       "Ohio              12165.888889               0.0  12165.888889\n",
       "Louisiana          2615.111111               0.0   2615.111111\n",
       "South Dakota       1261.666667               0.0   1261.666667\n",
       "Virginia           1011.888889               0.0   1011.888889\n",
       "Maine               721.555556               0.0    721.555556"
      ]
     },
     "execution_count": 363,
     "metadata": {},
     "output_type": "execute_result"
    }
   ],
   "source": [
    "twodf = perm_2017\n",
    "twodf = twodf.join(perm_2012)\n",
    "twodf.columns = ['2017 Permit Data', '2012 Permit Data']\n",
    "twodf['% Growth'] = (twodf['2017 Permit Data'] - twodf['2012 Permit Data']) / ((twodf['2012 Permit Data']+0.01)*100)\n",
    "twodf.sort_values('% Growth', ascending=False).head()"
   ]
  },
  {
   "cell_type": "markdown",
   "metadata": {},
   "source": [
    "The top five states that had the highest growth in gun registration were: \n",
    "    <ol>\n",
    "        <li>Ohio</li>\n",
    "        <li>Louisiana</li>\n",
    "        <li>South Dakota</li>\n",
    "        <li>Virginia</li>\n",
    "        <li>Maine</li>\n",
    "    </ol>\n",
    "The 2012 permit data from these states is at zero suggesting that there might have been a backlog of processing data that caused this. It could also indicate that there was input error in the data since having no permits in a year does seem like an aberration."
   ]
  },
  {
   "cell_type": "markdown",
   "metadata": {},
   "source": [
    "<a id='conclusions'></a>\n",
    "## Conclusions"
   ]
  },
  {
   "cell_type": "markdown",
   "metadata": {},
   "source": [
    "In conclusion, we were able to answer the questions posed at the introduction of this report albeit with some limitations. We found out that people are applying for long guns over handguns although that trend has minimally shifted recently with people seemingly preferring handguns. This could lead to an interesting discussion when it comes to manufacture and selling of the different types of weapons. People redeem more long guns over hand guns which again is congruent with our finding from the first question. It appears there is a slightly negative correlation between number of permits applied for and the percentage of people in those states with a college degree or above. \n",
    "\n",
    "Finally we can see that from 2017 data, Ohio has had the most growth in number of permit applications in the 5 year span between 2012 and 2017.\n",
    "\n",
    "I encountered a couple of limitations when doing my analysis. One was that I lacked a robust dataset of population data since the census only takes place every ten years and I was working population estimates from 2016 to make my comparisons between the FBI database and the census database. A second issue I faced had to do with missing data points. When analysing the last question on states with the highest growth in permit applications, I found a lot of states that reported no permit applications. This seems strange and should warrant further investigation from the data source to ensure that integrity of the data we are working with is not being compromised since the lack of reported data in this section could cast doubt on the analysis conducted herein."
   ]
  }
 ],
 "metadata": {
  "kernelspec": {
   "display_name": "Python [default]",
   "language": "python",
   "name": "python3"
  },
  "language_info": {
   "codemirror_mode": {
    "name": "ipython",
    "version": 3
   },
   "file_extension": ".py",
   "mimetype": "text/x-python",
   "name": "python",
   "nbconvert_exporter": "python",
   "pygments_lexer": "ipython3",
   "version": "3.6.4"
  }
 },
 "nbformat": 4,
 "nbformat_minor": 2
}
